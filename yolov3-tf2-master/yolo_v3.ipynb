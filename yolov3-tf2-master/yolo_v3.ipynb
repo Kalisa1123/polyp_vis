{
 "cells": [
  {
   "cell_type": "markdown",
   "metadata": {},
   "source": [
    "## YOLO v3 implemntation\n",
    "\n",
    "from https://github.com/zzh8829/yolov3-tf2"
   ]
  },
  {
   "cell_type": "code",
   "execution_count": 1,
   "metadata": {},
   "outputs": [
    {
     "name": "stdout",
     "output_type": "stream",
     "text": [
      "Collecting tensorflow-gpu==2.0.0a0 (from -r requirements.txt (line 1))\n",
      "\u001b[31m  ERROR: Could not find a version that satisfies the requirement tensorflow-gpu==2.0.0a0 (from -r requirements.txt (line 1)) (from versions: none)\u001b[0m\n",
      "\u001b[31mERROR: No matching distribution found for tensorflow-gpu==2.0.0a0 (from -r requirements.txt (line 1))\u001b[0m\n",
      "Collecting tensorflow-gpu==2.0.0a0\n",
      "\u001b[31m  ERROR: Could not find a version that satisfies the requirement tensorflow-gpu==2.0.0a0 (from versions: none)\u001b[0m\n",
      "\u001b[31mERROR: No matching distribution found for tensorflow-gpu==2.0.0a0\u001b[0m\n"
     ]
    }
   ],
   "source": [
    "#requires gpu?\n",
    "#requries Preview TF 2.0 Beta build with GPU support (unstable, Ubuntu and Windows)\n",
    "!pip install -r requirements.txt\n",
    "!pip install tensorflow-gpu==2.0.0a0\n"
   ]
  },
  {
   "cell_type": "code",
   "execution_count": 2,
   "metadata": {},
   "outputs": [
    {
     "ename": "SyntaxError",
     "evalue": "invalid syntax (<ipython-input-2-82457ad37c25>, line 1)",
     "output_type": "error",
     "traceback": [
      "\u001b[0;36m  File \u001b[0;32m\"<ipython-input-2-82457ad37c25>\"\u001b[0;36m, line \u001b[0;32m1\u001b[0m\n\u001b[0;31m    conda env create -f environment.yml\u001b[0m\n\u001b[0m            ^\u001b[0m\n\u001b[0;31mSyntaxError\u001b[0m\u001b[0;31m:\u001b[0m invalid syntax\n"
     ]
    }
   ],
   "source": [
    "!conda env create -f environment.yml\n",
    "!conda activate yolov3-tf2"
   ]
  },
  {
   "cell_type": "code",
   "execution_count": 3,
   "metadata": {},
   "outputs": [
    {
     "name": "stdout",
     "output_type": "stream",
     "text": [
      "--2019-06-07 12:45:26--  https://pjreddie.com/media/files/yolov3.weights\n",
      "Resolving pjreddie.com (pjreddie.com)... 128.208.4.108\n",
      "Connecting to pjreddie.com (pjreddie.com)|128.208.4.108|:443... connected.\n",
      "HTTP request sent, awaiting response... 200 OK\n",
      "Length: 248007048 (237M) [application/octet-stream]\n",
      "Saving to: ‘data/yolov3.weights’\n",
      "\n",
      "data/yolov3.weights  20%[===>                ]  49.63M  5.04MB/s    eta 33s    ^C\n",
      "2019-06-07 12:45:40.886975: I tensorflow/core/platform/cpu_feature_guard.cc:142] Your CPU supports instructions that this TensorFlow binary was not compiled to use: AVX2 FMA\n",
      "Model: \"yolov3\"\n",
      "__________________________________________________________________________________________________\n",
      "Layer (type)                    Output Shape         Param #     Connected to                     \n",
      "==================================================================================================\n",
      "input_1 (InputLayer)            [(None, None, None,  0                                            \n",
      "__________________________________________________________________________________________________\n",
      "yolo_darknet (Model)            ((None, None, None,  40620640    input_1[0][0]                    \n",
      "__________________________________________________________________________________________________\n",
      "yolo_conv_0 (Model)             (None, None, None, 5 11024384    yolo_darknet[1][2]               \n",
      "__________________________________________________________________________________________________\n",
      "yolo_conv_1 (Model)             (None, None, None, 2 2957312     yolo_conv_0[1][0]                \n",
      "                                                                 yolo_darknet[1][1]               \n",
      "__________________________________________________________________________________________________\n",
      "yolo_conv_2 (Model)             (None, None, None, 1 741376      yolo_conv_1[1][0]                \n",
      "                                                                 yolo_darknet[1][0]               \n",
      "__________________________________________________________________________________________________\n",
      "yolo_output_0 (Model)           (None, None, None, 3 4984063     yolo_conv_0[1][0]                \n",
      "__________________________________________________________________________________________________\n",
      "yolo_output_1 (Model)           (None, None, None, 3 1312511     yolo_conv_1[1][0]                \n",
      "__________________________________________________________________________________________________\n",
      "yolo_output_2 (Model)           (None, None, None, 3 361471      yolo_conv_2[1][0]                \n",
      "__________________________________________________________________________________________________\n",
      "yolo_boxes_0 (Lambda)           ((None, None, None,  0           yolo_output_0[1][0]              \n",
      "__________________________________________________________________________________________________\n",
      "yolo_boxes_1 (Lambda)           ((None, None, None,  0           yolo_output_1[1][0]              \n",
      "__________________________________________________________________________________________________\n",
      "yolo_boxes_2 (Lambda)           ((None, None, None,  0           yolo_output_2[1][0]              \n",
      "__________________________________________________________________________________________________\n",
      "yolo_nms (Lambda)               ((None, 100, 4), (No 0           yolo_boxes_0[0][0]               \n",
      "                                                                 yolo_boxes_0[0][1]               \n",
      "                                                                 yolo_boxes_0[0][2]               \n",
      "                                                                 yolo_boxes_1[0][0]               \n",
      "                                                                 yolo_boxes_1[0][1]               \n",
      "                                                                 yolo_boxes_1[0][2]               \n",
      "                                                                 yolo_boxes_2[0][0]               \n",
      "                                                                 yolo_boxes_2[0][1]               \n",
      "                                                                 yolo_boxes_2[0][2]               \n",
      "==================================================================================================\n",
      "Total params: 62,001,757\n",
      "Trainable params: 61,949,149\n",
      "Non-trainable params: 52,608\n",
      "__________________________________________________________________________________________________\n",
      "I0607 12:45:51.989844 4641265088 convert.py:18] model created\n",
      "I0607 12:45:51.991834 4641265088 utils.py:45] yolo_darknet/conv2d bn\n",
      "I0607 12:45:51.994357 4641265088 utils.py:45] yolo_darknet/conv2d_1 bn\n",
      "I0607 12:45:51.997117 4641265088 utils.py:45] yolo_darknet/conv2d_2 bn\n",
      "I0607 12:45:52.000273 4641265088 utils.py:45] yolo_darknet/conv2d_3 bn\n",
      "I0607 12:45:52.002720 4641265088 utils.py:45] yolo_darknet/conv2d_4 bn\n",
      "I0607 12:45:52.006189 4641265088 utils.py:45] yolo_darknet/conv2d_5 bn\n",
      "I0607 12:45:52.010545 4641265088 utils.py:45] yolo_darknet/conv2d_6 bn\n",
      "I0607 12:45:52.013410 4641265088 utils.py:45] yolo_darknet/conv2d_7 bn\n",
      "I0607 12:45:52.015867 4641265088 utils.py:45] yolo_darknet/conv2d_8 bn\n",
      "I0607 12:45:52.018676 4641265088 utils.py:45] yolo_darknet/conv2d_9 bn\n",
      "I0607 12:45:52.024006 4641265088 utils.py:45] yolo_darknet/conv2d_10 bn\n",
      "I0607 12:45:52.028523 4641265088 utils.py:45] yolo_darknet/conv2d_11 bn\n",
      "I0607 12:45:52.032595 4641265088 utils.py:45] yolo_darknet/conv2d_12 bn\n",
      "I0607 12:45:52.036361 4641265088 utils.py:45] yolo_darknet/conv2d_13 bn\n",
      "I0607 12:45:52.041113 4641265088 utils.py:45] yolo_darknet/conv2d_14 bn\n",
      "I0607 12:45:52.044026 4641265088 utils.py:45] yolo_darknet/conv2d_15 bn\n",
      "I0607 12:45:52.048097 4641265088 utils.py:45] yolo_darknet/conv2d_16 bn\n",
      "I0607 12:45:52.051267 4641265088 utils.py:45] yolo_darknet/conv2d_17 bn\n",
      "I0607 12:45:52.056468 4641265088 utils.py:45] yolo_darknet/conv2d_18 bn\n",
      "I0607 12:45:52.059502 4641265088 utils.py:45] yolo_darknet/conv2d_19 bn\n",
      "I0607 12:45:52.064918 4641265088 utils.py:45] yolo_darknet/conv2d_20 bn\n",
      "I0607 12:45:52.069049 4641265088 utils.py:45] yolo_darknet/conv2d_21 bn\n",
      "I0607 12:45:52.073961 4641265088 utils.py:45] yolo_darknet/conv2d_22 bn\n",
      "I0607 12:45:52.076992 4641265088 utils.py:45] yolo_darknet/conv2d_23 bn\n",
      "I0607 12:45:52.082455 4641265088 utils.py:45] yolo_darknet/conv2d_24 bn\n",
      "I0607 12:45:52.085386 4641265088 utils.py:45] yolo_darknet/conv2d_25 bn\n",
      "I0607 12:45:52.092175 4641265088 utils.py:45] yolo_darknet/conv2d_26 bn\n",
      "I0607 12:45:52.110764 4641265088 utils.py:45] yolo_darknet/conv2d_27 bn\n",
      "I0607 12:45:52.116496 4641265088 utils.py:45] yolo_darknet/conv2d_28 bn\n",
      "I0607 12:45:52.133244 4641265088 utils.py:45] yolo_darknet/conv2d_29 bn\n",
      "I0607 12:45:52.138213 4641265088 utils.py:45] yolo_darknet/conv2d_30 bn\n",
      "I0607 12:45:52.157716 4641265088 utils.py:45] yolo_darknet/conv2d_31 bn\n",
      "I0607 12:45:52.163236 4641265088 utils.py:45] yolo_darknet/conv2d_32 bn\n",
      "I0607 12:45:52.181602 4641265088 utils.py:45] yolo_darknet/conv2d_33 bn\n",
      "I0607 12:45:52.187816 4641265088 utils.py:45] yolo_darknet/conv2d_34 bn\n",
      "I0607 12:45:52.207173 4641265088 utils.py:45] yolo_darknet/conv2d_35 bn\n",
      "I0607 12:45:52.212886 4641265088 utils.py:45] yolo_darknet/conv2d_36 bn\n",
      "I0607 12:45:52.230508 4641265088 utils.py:45] yolo_darknet/conv2d_37 bn\n",
      "I0607 12:45:52.233955 4641265088 utils.py:45] yolo_darknet/conv2d_38 bn\n",
      "I0607 12:45:52.253305 4641265088 utils.py:45] yolo_darknet/conv2d_39 bn\n",
      "I0607 12:45:52.258159 4641265088 utils.py:45] yolo_darknet/conv2d_40 bn\n",
      "Traceback (most recent call last):\n",
      "  File \"convert.py\", line 33, in <module>\n",
      "    app.run(main)\n",
      "  File \"/anaconda3/lib/python3.7/site-packages/absl/app.py\", line 300, in run\n",
      "    _run_main(main, args)\n",
      "  File \"/anaconda3/lib/python3.7/site-packages/absl/app.py\", line 251, in _run_main\n",
      "    sys.exit(main(argv))\n",
      "  File \"convert.py\", line 20, in main\n",
      "    load_darknet_weights(yolo, FLAGS.weights, FLAGS.tiny)\n",
      "  File \"/Users/McClain/Desktop/polyp_vis/yolov3-tf2-master/yolov3_tf2/utils.py\", line 66, in load_darknet_weights\n",
      "    conv_shape).transpose([2, 3, 1, 0])\n",
      "ValueError: cannot reshape array of size 756046 into shape (512,256,3,3)\n"
     ]
    }
   ],
   "source": [
    "!wget https://pjreddie.com/media/files/yolov3.weights -O data/yolov3.weights\n",
    "!python convert.py"
   ]
  },
  {
   "cell_type": "code",
   "execution_count": null,
   "metadata": {},
   "outputs": [],
   "source": [
    "!python train.py --batch_size 8 --dataset ~/Data/voc2012.tfrecord --val_dataset ~/Data/voc2012_val.tfrecord --epochs 100 --mode eager_tf --transfer fine_tune"
   ]
  },
  {
   "cell_type": "code",
   "execution_count": null,
   "metadata": {},
   "outputs": [],
   "source": [
    "#convert to TF model\n",
    "!python export_tfserving.py --output serving/yolov3/1/\n",
    "# verify tfserving graph\n",
    "!saved_model_cli show --dir serving/yolov3/1/ --tag_set serve --signature_def serving_default"
   ]
  }
 ],
 "metadata": {
  "kernelspec": {
   "display_name": "Python 3",
   "language": "python",
   "name": "python3"
  },
  "language_info": {
   "codemirror_mode": {
    "name": "ipython",
    "version": 3
   },
   "file_extension": ".py",
   "mimetype": "text/x-python",
   "name": "python",
   "nbconvert_exporter": "python",
   "pygments_lexer": "ipython3",
   "version": "3.7.2"
  }
 },
 "nbformat": 4,
 "nbformat_minor": 2
}
